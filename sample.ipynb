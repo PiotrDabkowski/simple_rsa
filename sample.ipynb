{
 "cells": [
  {
   "cell_type": "markdown",
   "metadata": {},
   "source": [
    "### Simple RSA module\n",
    "\n",
    "Supports:\n",
    " \n",
    " - random public and private key pair generation (any size)\n",
    " - asymetric encryption and decryption of arbitrary strings\n",
    " - signatures, you can sign, serialize, deserialize and reliably verify claims\n"
   ]
  },
  {
   "cell_type": "markdown",
   "metadata": {},
   "source": [
    "#### Key pair generation\n"
   ]
  },
  {
   "cell_type": "code",
   "execution_count": 1,
   "metadata": {},
   "outputs": [
    {
     "data": {
      "text/plain": [
       "(176250016774801941160827279259156223243010342842721807630826957004191570731919L,\n 78665,\n 13572730693948903917010227288808785038086697313751224814125975285859675390426250105L)"
      ]
     },
     "execution_count": 1,
     "metadata": {},
     "output_type": "execute_result"
    }
   ],
   "source": [
    "import rsa\n",
    "\n",
    "\n",
    "r = rsa.RSA.get_random_rsa(bits=256) # you can also provide the keys manually, private key (d) is optional\n",
    "r.modulus, r.exponent, r.d"
   ]
  },
  {
   "cell_type": "markdown",
   "metadata": {},
   "source": [
    "#### Encryption/decryption\n"
   ]
  },
  {
   "cell_type": "code",
   "execution_count": 2,
   "metadata": {},
   "outputs": [
    {
     "data": {
      "text/plain": [
       "'\\x00\\x16S\\xcb\\x03\\xe3F\\x91\\xa5\\x9a\\xfaF\\xa5j\\x02\\xf6\\r\\x85\\x8clx\\x04\\xef\\xac\\xfa\\x8c\\xebS\\r}\\xc6\\x1c,\\x00\\xf2J\\x16\\xf9\"\\x8a}\\xafkBa\\x9b\\xad\\x1b\\xef\\xc8\\x94\\x85\\xe5\\xa7\\x03\\xcb\\xc2\\xc7G\\xb9F\\x82\\xe9\\xdeK\\x9a\\x00D\\x85}}\\x19\\x9c\\xd4\\xfa\\x11\\xd9\\xa3\\xca\\x0e74\\xf6\\x88d\\xc7*D^w\\x92#\\xc8e\\xc8\\n9z\\xc8\\x01gzw\\xf8\\xf3e\\x1d<g\\xb3;{\\xf6\\x8ci5?\\x9b\\x81\\x98\\xab<\\x94\\xa9\\xdf\\xe0::\\xaf1]j'"
      ]
     },
     "execution_count": 2,
     "metadata": {},
     "output_type": "execute_result"
    }
   ],
   "source": [
    "ciphertext = r.encrypt('hello world')\n",
    "ciphertext"
   ]
  },
  {
   "cell_type": "code",
   "execution_count": 3,
   "metadata": {},
   "outputs": [
    {
     "data": {
      "text/plain": [
       "'hello world'"
      ]
     },
     "execution_count": 3,
     "metadata": {},
     "output_type": "execute_result"
    }
   ],
   "source": [
    "r.decrypt(ciphertext)"
   ]
  },
  {
   "cell_type": "markdown",
   "metadata": {},
   "source": [
    "#### Claims and signatures"
   ]
  },
  {
   "cell_type": "code",
   "execution_count": 4,
   "metadata": {},
   "outputs": [
    {
     "data": {
      "text/plain": [
       "22344980823786412771627668254706768127981754849555142774287807621995509718288L"
      ]
     },
     "execution_count": 4,
     "metadata": {},
     "output_type": "execute_result"
    }
   ],
   "source": [
    "claim = r.sign('Poland is the best')\n",
    "claim.signature\n"
   ]
  },
  {
   "cell_type": "code",
   "execution_count": 5,
   "metadata": {},
   "outputs": [
    {
     "data": {
      "text/plain": [
       "True"
      ]
     },
     "execution_count": 5,
     "metadata": {},
     "output_type": "execute_result"
    }
   ],
   "source": [
    "claim.verify()"
   ]
  },
  {
   "cell_type": "code",
   "execution_count": 6,
   "metadata": {},
   "outputs": [
    {
     "data": {
      "text/plain": [
       "'506f6c616e64206973207468652062657374;13349;185a9f96ecc6ecae1dc7caa96e8707466773f389098a88edc3a15d96c4c8a238fL;3166cf9b15f7aca8d8afae20354724ab234c58caee36319dd6be029152021d10L'"
      ]
     },
     "execution_count": 6,
     "metadata": {},
     "output_type": "execute_result"
    }
   ],
   "source": [
    "claim_str = claim.to_string()\n",
    "claim_str"
   ]
  },
  {
   "cell_type": "code",
   "execution_count": 7,
   "metadata": {},
   "outputs": [
    {
     "data": {
      "text/plain": [
       "'Poland is the best'"
      ]
     },
     "execution_count": 7,
     "metadata": {},
     "output_type": "execute_result"
    }
   ],
   "source": [
    "claim_recovered = rsa.Claim.from_string(claim_str)\n",
    "claim_recovered.msg"
   ]
  },
  {
   "cell_type": "code",
   "execution_count": 8,
   "metadata": {},
   "outputs": [
    {
     "data": {
      "text/plain": [
       "True"
      ]
     },
     "execution_count": 8,
     "metadata": {},
     "output_type": "execute_result"
    }
   ],
   "source": [
    "claim_recovered.verify()"
   ]
  },
  {
   "cell_type": "code",
   "execution_count": 10,
   "metadata": {},
   "outputs": [
    {
     "data": {
      "text/plain": [
       "False"
      ]
     },
     "execution_count": 10,
     "metadata": {},
     "output_type": "execute_result"
    }
   ],
   "source": [
    "claim_recovered.signature += 1\n",
    "claim_recovered.verify()"
   ]
  },
  {
   "cell_type": "code",
   "execution_count": null,
   "metadata": {},
   "outputs": [],
   "source": []
  }
 ],
 "metadata": {},
 "nbformat": 4,
 "nbformat_minor": 0
}
